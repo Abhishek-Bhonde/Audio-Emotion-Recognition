{
  "cells": [
    {
      "cell_type": "markdown",
      "metadata": {
        "id": "CDRTCR3Uj_91"
      },
      "source": [
        "# Model Building"
      ]
    },
    {
      "cell_type": "markdown",
      "metadata": {
        "id": "mpStk9g9j_95"
      },
      "source": [
        "## Attaching Resources"
      ]
    },
    {
      "cell_type": "markdown",
      "metadata": {
        "id": "DxLRc_W4j_96"
      },
      "source": [
        "### Importing Necessary Libraries"
      ]
    },
    {
      "cell_type": "code",
      "execution_count": 1,
      "metadata": {
        "colab": {
          "base_uri": "https://localhost:8080/",
          "height": 34
        },
        "id": "_02OO1sjj_96",
        "outputId": "3735efd1-8824-40cd-bdda-457b48c7318c"
      },
      "outputs": [],
      "source": [
        "import pandas as pd\n",
        "import numpy as np\n",
        "import os\n",
        "import pickle\n",
        "import sys\n",
        "import librosa\n",
        "import librosa.display\n",
        "import seaborn as sns\n",
        "import matplotlib.pyplot as plt\n",
        "from sklearn.preprocessing import StandardScaler, OneHotEncoder\n",
        "from sklearn.metrics import confusion_matrix, classification_report\n",
        "from sklearn.model_selection import train_test_split\n",
        "from sklearn.metrics import r2_score, mean_absolute_error, mean_squared_error\n",
        "from IPython.display import Audio\n",
        "from sklearn.metrics import accuracy_score\n",
        "import keras\n",
        "from keras.callbacks import ReduceLROnPlateau\n",
        "from keras.models import Sequential\n",
        "from keras.layers import Dense, Conv1D, MaxPooling1D, Flatten, Dropout, BatchNormalization, LSTM\n",
        "from keras.callbacks import ModelCheckpoint\n",
        "\n",
        "import warnings\n",
        "if not sys.warnoptions:\n",
        "    warnings.simplefilter(\"ignore\")\n",
        "warnings.filterwarnings(\"ignore\", category=DeprecationWarning) \n",
        "%matplotlib inline"
      ]
    },
    {
      "cell_type": "markdown",
      "metadata": {
        "id": "ePCfomkFj_98"
      },
      "source": [
        "### Adding Dataset"
      ]
    },
    {
      "cell_type": "code",
      "execution_count": 2,
      "metadata": {
        "colab": {
          "base_uri": "https://localhost:8080/",
          "height": 424
        },
        "id": "MvDKZm-Nj_98",
        "outputId": "bf24a261-f44f-4976-9906-29bfcd642b0e"
      },
      "outputs": [
        {
          "name": "stdout",
          "output_type": "stream",
          "text": [
            "Dataset is Loaded\n"
          ]
        }
      ],
      "source": [
        "paths = []\n",
        "labels = []\n",
        "for dirname, _, filenames in os.walk('TESS Toronto emotional speech set data'):\n",
        "    for filename in filenames:\n",
        "        paths.append(os.path.join(dirname, filename))\n",
        "        label = filename.split('_')[-1]\n",
        "        label = label.split('.')[0]\n",
        "        labels.append(label.lower())\n",
        "    if len(paths) == 2800:\n",
        "        break\n",
        "print('Dataset is Loaded')"
      ]
    },
    {
      "cell_type": "code",
      "execution_count": 3,
      "metadata": {},
      "outputs": [
        {
          "data": {
            "text/plain": [
              "2800"
            ]
          },
          "execution_count": 3,
          "metadata": {},
          "output_type": "execute_result"
        }
      ],
      "source": [
        "len(paths)"
      ]
    },
    {
      "cell_type": "code",
      "execution_count": 4,
      "metadata": {},
      "outputs": [
        {
          "data": {
            "text/plain": [
              "['TESS Toronto emotional speech set data\\\\OAF_angry\\\\OAF_back_angry.wav',\n",
              " 'TESS Toronto emotional speech set data\\\\OAF_angry\\\\OAF_bar_angry.wav',\n",
              " 'TESS Toronto emotional speech set data\\\\OAF_angry\\\\OAF_base_angry.wav',\n",
              " 'TESS Toronto emotional speech set data\\\\OAF_angry\\\\OAF_bath_angry.wav',\n",
              " 'TESS Toronto emotional speech set data\\\\OAF_angry\\\\OAF_bean_angry.wav']"
            ]
          },
          "execution_count": 4,
          "metadata": {},
          "output_type": "execute_result"
        }
      ],
      "source": [
        "paths[:5]"
      ]
    },
    {
      "cell_type": "code",
      "execution_count": 5,
      "metadata": {},
      "outputs": [
        {
          "data": {
            "text/plain": [
              "['angry', 'angry', 'angry', 'angry', 'angry']"
            ]
          },
          "execution_count": 5,
          "metadata": {},
          "output_type": "execute_result"
        }
      ],
      "source": [
        "labels[:5]"
      ]
    },
    {
      "cell_type": "code",
      "execution_count": 6,
      "metadata": {},
      "outputs": [
        {
          "data": {
            "text/html": [
              "<div>\n",
              "<style scoped>\n",
              "    .dataframe tbody tr th:only-of-type {\n",
              "        vertical-align: middle;\n",
              "    }\n",
              "\n",
              "    .dataframe tbody tr th {\n",
              "        vertical-align: top;\n",
              "    }\n",
              "\n",
              "    .dataframe thead th {\n",
              "        text-align: right;\n",
              "    }\n",
              "</style>\n",
              "<table border=\"1\" class=\"dataframe\">\n",
              "  <thead>\n",
              "    <tr style=\"text-align: right;\">\n",
              "      <th></th>\n",
              "      <th>speech</th>\n",
              "      <th>label</th>\n",
              "    </tr>\n",
              "  </thead>\n",
              "  <tbody>\n",
              "    <tr>\n",
              "      <th>0</th>\n",
              "      <td>TESS Toronto emotional speech set data\\OAF_ang...</td>\n",
              "      <td>angry</td>\n",
              "    </tr>\n",
              "    <tr>\n",
              "      <th>1</th>\n",
              "      <td>TESS Toronto emotional speech set data\\OAF_ang...</td>\n",
              "      <td>angry</td>\n",
              "    </tr>\n",
              "    <tr>\n",
              "      <th>2</th>\n",
              "      <td>TESS Toronto emotional speech set data\\OAF_ang...</td>\n",
              "      <td>angry</td>\n",
              "    </tr>\n",
              "    <tr>\n",
              "      <th>3</th>\n",
              "      <td>TESS Toronto emotional speech set data\\OAF_ang...</td>\n",
              "      <td>angry</td>\n",
              "    </tr>\n",
              "    <tr>\n",
              "      <th>4</th>\n",
              "      <td>TESS Toronto emotional speech set data\\OAF_ang...</td>\n",
              "      <td>angry</td>\n",
              "    </tr>\n",
              "  </tbody>\n",
              "</table>\n",
              "</div>"
            ],
            "text/plain": [
              "                                              speech  label\n",
              "0  TESS Toronto emotional speech set data\\OAF_ang...  angry\n",
              "1  TESS Toronto emotional speech set data\\OAF_ang...  angry\n",
              "2  TESS Toronto emotional speech set data\\OAF_ang...  angry\n",
              "3  TESS Toronto emotional speech set data\\OAF_ang...  angry\n",
              "4  TESS Toronto emotional speech set data\\OAF_ang...  angry"
            ]
          },
          "execution_count": 6,
          "metadata": {},
          "output_type": "execute_result"
        }
      ],
      "source": [
        "df = pd.DataFrame()\n",
        "df['speech'] = paths\n",
        "df['label'] = labels\n",
        "df.head()"
      ]
    },
    {
      "cell_type": "code",
      "execution_count": 7,
      "metadata": {},
      "outputs": [],
      "source": [
        "df['label'] = df['label'].replace('ps', 'pleasant surprise')"
      ]
    },
    {
      "cell_type": "code",
      "execution_count": 8,
      "metadata": {},
      "outputs": [
        {
          "data": {
            "text/plain": [
              "label\n",
              "angry                400\n",
              "disgust              400\n",
              "fear                 400\n",
              "happy                400\n",
              "neutral              400\n",
              "pleasant surprise    400\n",
              "sad                  400\n",
              "Name: count, dtype: int64"
            ]
          },
          "execution_count": 8,
          "metadata": {},
          "output_type": "execute_result"
        }
      ],
      "source": [
        "df['label'].value_counts()"
      ]
    },
    {
      "cell_type": "code",
      "execution_count": 9,
      "metadata": {},
      "outputs": [],
      "source": [
        "labels = np.array(df['label'].value_counts().index)"
      ]
    },
    {
      "cell_type": "markdown",
      "metadata": {},
      "source": [
        "### Audio feature extraction method"
      ]
    },
    {
      "cell_type": "code",
      "execution_count": 10,
      "metadata": {},
      "outputs": [],
      "source": [
        "def extract_mfcc(filename):\n",
        "     y, sr = librosa.load(filename, duration=3, offset=0.5)\n",
        "     mfcc = np.mean(librosa.feature.mfcc(y=y, sr=sr, n_mfcc=40).T, axis=0)\n",
        "     return mfcc"
      ]
    },
    {
      "cell_type": "code",
      "execution_count": 11,
      "metadata": {},
      "outputs": [
        {
          "data": {
            "text/plain": [
              "array([-3.96986206e+02,  7.74405365e+01, -1.95927906e+01, -2.16666889e+01,\n",
              "       -2.11275601e+00,  1.00753632e+01, -2.03667068e+01, -6.09244919e+00,\n",
              "       -7.21228313e+00, -5.57366073e-01, -1.83255327e+00,  2.02101365e-01,\n",
              "        7.27551103e-01,  1.31773746e+00,  2.88633752e+00,  2.85579085e+00,\n",
              "       -4.71292162e+00, -4.43651056e+00, -1.62115920e+00, -1.02398405e+01,\n",
              "       -7.55126286e+00, -1.79688025e+00, -7.03765249e+00,  9.43658352e+00,\n",
              "        8.35585499e+00,  2.17123604e+01,  1.92169914e+01,  2.03489304e+01,\n",
              "        1.34133663e+01,  8.33917141e+00,  3.94722193e-01,  5.11131477e+00,\n",
              "        9.56873894e+00,  5.45486832e+00,  2.50996351e+00, -1.82390726e+00,\n",
              "        4.86896181e+00,  9.31392384e+00,  2.08914995e+00, -1.90649164e+00],\n",
              "      dtype=float32)"
            ]
          },
          "execution_count": 11,
          "metadata": {},
          "output_type": "execute_result"
        }
      ],
      "source": [
        "extract_mfcc(df['speech'][0])"
      ]
    },
    {
      "cell_type": "code",
      "execution_count": 12,
      "metadata": {},
      "outputs": [],
      "source": [
        "X_mfcc = df['speech'].apply(lambda x: extract_mfcc(x))"
      ]
    },
    {
      "cell_type": "code",
      "execution_count": 13,
      "metadata": {},
      "outputs": [
        {
          "data": {
            "text/plain": [
              "(2800, 40)"
            ]
          },
          "execution_count": 13,
          "metadata": {},
          "output_type": "execute_result"
        }
      ],
      "source": [
        "X = [x for x in X_mfcc]\n",
        "X = np.array(X)\n",
        "X.shape"
      ]
    },
    {
      "cell_type": "code",
      "execution_count": 14,
      "metadata": {},
      "outputs": [
        {
          "data": {
            "text/plain": [
              "(2800, 40, 1)"
            ]
          },
          "execution_count": 14,
          "metadata": {},
          "output_type": "execute_result"
        }
      ],
      "source": [
        "X = np.expand_dims(X, -1)\n",
        "X.shape"
      ]
    },
    {
      "cell_type": "code",
      "execution_count": 15,
      "metadata": {},
      "outputs": [
        {
          "data": {
            "text/plain": [
              "(2800, 7)"
            ]
          },
          "execution_count": 15,
          "metadata": {},
          "output_type": "execute_result"
        }
      ],
      "source": [
        "enc = OneHotEncoder()\n",
        "y = enc.fit_transform(df[['label']])\n",
        "y = y.toarray()\n",
        "y.shape"
      ]
    },
    {
      "cell_type": "code",
      "execution_count": 16,
      "metadata": {},
      "outputs": [
        {
          "name": "stdout",
          "output_type": "stream",
          "text": [
            "{0: 'angry', 1: 'disgust', 2: 'fear', 3: 'happy', 4: 'neutral', 5: 'pleasant surprise', 6: 'sad'}\n"
          ]
        }
      ],
      "source": [
        "label_index_mapping = {i: label for i, label in enumerate(enc.categories_[0])}\n",
        "print(label_index_mapping)"
      ]
    },
    {
      "cell_type": "markdown",
      "metadata": {
        "id": "SOWgdbu_j_9_"
      },
      "source": [
        "## Splitting The Data Into Traning and Testing Dataset"
      ]
    },
    {
      "cell_type": "code",
      "execution_count": 17,
      "metadata": {
        "id": "vtdmbV0lj_9_"
      },
      "outputs": [],
      "source": [
        "x_train, x_test, y_train, y_test = train_test_split(X,y, test_size=0.2, random_state=10)"
      ]
    },
    {
      "cell_type": "code",
      "execution_count": 18,
      "metadata": {},
      "outputs": [
        {
          "name": "stdout",
          "output_type": "stream",
          "text": [
            "(2240, 40, 1)\n",
            "(560, 40, 1)\n"
          ]
        }
      ],
      "source": [
        "print(x_train.shape)\n",
        "print(x_test.shape)"
      ]
    },
    {
      "cell_type": "code",
      "execution_count": 19,
      "metadata": {},
      "outputs": [
        {
          "name": "stdout",
          "output_type": "stream",
          "text": [
            "(2240, 7)\n",
            "(560, 7)\n"
          ]
        }
      ],
      "source": [
        "print(y_train.shape)\n",
        "print(y_test.shape)"
      ]
    },
    {
      "cell_type": "markdown",
      "metadata": {
        "id": "r0M9WNdAj_-B"
      },
      "source": [
        "### Creating the LSTM Model"
      ]
    },
    {
      "cell_type": "code",
      "execution_count": 20,
      "metadata": {
        "id": "7_159DrBj_-B"
      },
      "outputs": [
        {
          "name": "stdout",
          "output_type": "stream",
          "text": [
            "Model: \"sequential\"\n",
            "_________________________________________________________________\n",
            " Layer (type)                Output Shape              Param #   \n",
            "=================================================================\n",
            " lstm (LSTM)                 (None, 256)               264192    \n",
            "                                                                 \n",
            " dropout (Dropout)           (None, 256)               0         \n",
            "                                                                 \n",
            " dense (Dense)               (None, 128)               32896     \n",
            "                                                                 \n",
            " dropout_1 (Dropout)         (None, 128)               0         \n",
            "                                                                 \n",
            " dense_1 (Dense)             (None, 64)                8256      \n",
            "                                                                 \n",
            " dropout_2 (Dropout)         (None, 64)                0         \n",
            "                                                                 \n",
            " dense_2 (Dense)             (None, 7)                 455       \n",
            "                                                                 \n",
            "=================================================================\n",
            "Total params: 305799 (1.17 MB)\n",
            "Trainable params: 305799 (1.17 MB)\n",
            "Non-trainable params: 0 (0.00 Byte)\n",
            "_________________________________________________________________\n"
          ]
        }
      ],
      "source": [
        "model = Sequential([\n",
        "    LSTM(256, return_sequences=False, input_shape=(40,1)),\n",
        "    Dropout(0.2),\n",
        "    Dense(128, activation='relu'),\n",
        "    Dropout(0.2),\n",
        "    Dense(64, activation='relu'),\n",
        "    Dropout(0.2),\n",
        "    Dense(7, activation='softmax')\n",
        "])\n",
        "\n",
        "model.compile(loss='categorical_crossentropy', optimizer='adam', metrics=['accuracy'])\n",
        "model.summary()"
      ]
    },
    {
      "cell_type": "code",
      "execution_count": 21,
      "metadata": {
        "colab": {
          "base_uri": "https://localhost:8080/"
        },
        "id": "QLjB5Gxej_-B",
        "outputId": "af77bb1c-58ee-494d-e0c6-0b6a0f0726cc"
      },
      "outputs": [
        {
          "name": "stdout",
          "output_type": "stream",
          "text": [
            "Epoch 1/50\n",
            "28/28 [==============================] - 7s 183ms/step - loss: 1.3767 - accuracy: 0.4699 - val_loss: 0.6981 - val_accuracy: 0.7634\n",
            "Epoch 2/50\n",
            "28/28 [==============================] - 4s 130ms/step - loss: 0.6416 - accuracy: 0.7427 - val_loss: 0.3236 - val_accuracy: 0.8884\n",
            "Epoch 3/50\n",
            "28/28 [==============================] - 4s 129ms/step - loss: 0.3668 - accuracy: 0.8739 - val_loss: 0.2400 - val_accuracy: 0.9196\n",
            "Epoch 4/50\n",
            "28/28 [==============================] - 3s 124ms/step - loss: 0.2519 - accuracy: 0.9224 - val_loss: 0.1729 - val_accuracy: 0.9420\n",
            "Epoch 5/50\n",
            "28/28 [==============================] - 4s 129ms/step - loss: 0.2061 - accuracy: 0.9358 - val_loss: 0.1043 - val_accuracy: 0.9598\n",
            "Epoch 6/50\n",
            "28/28 [==============================] - 3s 122ms/step - loss: 0.2097 - accuracy: 0.9325 - val_loss: 0.1285 - val_accuracy: 0.9554\n",
            "Epoch 7/50\n",
            "28/28 [==============================] - 3s 111ms/step - loss: 0.1335 - accuracy: 0.9581 - val_loss: 0.1014 - val_accuracy: 0.9598\n",
            "Epoch 8/50\n",
            "28/28 [==============================] - 3s 113ms/step - loss: 0.1254 - accuracy: 0.9604 - val_loss: 0.0814 - val_accuracy: 0.9710\n",
            "Epoch 9/50\n",
            "28/28 [==============================] - 3s 110ms/step - loss: 0.0997 - accuracy: 0.9699 - val_loss: 0.0471 - val_accuracy: 0.9821\n",
            "Epoch 10/50\n",
            "28/28 [==============================] - 3s 112ms/step - loss: 0.0723 - accuracy: 0.9771 - val_loss: 0.0788 - val_accuracy: 0.9732\n",
            "Epoch 11/50\n",
            "28/28 [==============================] - 3s 111ms/step - loss: 0.1043 - accuracy: 0.9682 - val_loss: 0.0796 - val_accuracy: 0.9710\n",
            "Epoch 12/50\n",
            "28/28 [==============================] - 3s 112ms/step - loss: 0.1006 - accuracy: 0.9660 - val_loss: 0.1383 - val_accuracy: 0.9531\n",
            "Epoch 13/50\n",
            "28/28 [==============================] - 3s 111ms/step - loss: 0.1159 - accuracy: 0.9632 - val_loss: 0.1237 - val_accuracy: 0.9598\n",
            "Epoch 14/50\n",
            "28/28 [==============================] - 3s 112ms/step - loss: 0.0788 - accuracy: 0.9743 - val_loss: 0.0589 - val_accuracy: 0.9866\n",
            "Epoch 15/50\n",
            "28/28 [==============================] - 3s 110ms/step - loss: 0.0553 - accuracy: 0.9816 - val_loss: 0.0588 - val_accuracy: 0.9821\n",
            "Epoch 16/50\n",
            "28/28 [==============================] - 3s 111ms/step - loss: 0.0746 - accuracy: 0.9754 - val_loss: 0.0728 - val_accuracy: 0.9777\n",
            "Epoch 17/50\n",
            "28/28 [==============================] - 3s 114ms/step - loss: 0.0938 - accuracy: 0.9749 - val_loss: 0.0918 - val_accuracy: 0.9665\n",
            "Epoch 18/50\n",
            "28/28 [==============================] - 3s 111ms/step - loss: 0.0486 - accuracy: 0.9849 - val_loss: 0.0729 - val_accuracy: 0.9821\n",
            "Epoch 19/50\n",
            "28/28 [==============================] - 3s 110ms/step - loss: 0.0292 - accuracy: 0.9927 - val_loss: 0.0702 - val_accuracy: 0.9866\n",
            "Epoch 20/50\n",
            "28/28 [==============================] - 3s 110ms/step - loss: 0.0283 - accuracy: 0.9911 - val_loss: 0.0591 - val_accuracy: 0.9821\n",
            "Epoch 21/50\n",
            "28/28 [==============================] - 3s 112ms/step - loss: 0.0393 - accuracy: 0.9860 - val_loss: 0.0583 - val_accuracy: 0.9866\n",
            "Epoch 22/50\n",
            "28/28 [==============================] - 3s 113ms/step - loss: 0.0946 - accuracy: 0.9710 - val_loss: 0.0512 - val_accuracy: 0.9777\n",
            "Epoch 23/50\n",
            "28/28 [==============================] - 3s 115ms/step - loss: 0.0468 - accuracy: 0.9838 - val_loss: 0.0550 - val_accuracy: 0.9799\n",
            "Epoch 24/50\n",
            "28/28 [==============================] - 3s 113ms/step - loss: 0.0383 - accuracy: 0.9877 - val_loss: 0.0629 - val_accuracy: 0.9821\n",
            "Epoch 25/50\n",
            "28/28 [==============================] - 3s 110ms/step - loss: 0.0257 - accuracy: 0.9900 - val_loss: 0.0497 - val_accuracy: 0.9844\n",
            "Epoch 26/50\n",
            "28/28 [==============================] - 3s 113ms/step - loss: 0.0205 - accuracy: 0.9950 - val_loss: 0.0333 - val_accuracy: 0.9844\n",
            "Epoch 27/50\n",
            "28/28 [==============================] - 3s 111ms/step - loss: 0.0215 - accuracy: 0.9922 - val_loss: 0.0429 - val_accuracy: 0.9888\n",
            "Epoch 28/50\n",
            "28/28 [==============================] - 3s 110ms/step - loss: 0.0358 - accuracy: 0.9905 - val_loss: 0.0447 - val_accuracy: 0.9844\n",
            "Epoch 29/50\n",
            "28/28 [==============================] - 4s 128ms/step - loss: 0.0320 - accuracy: 0.9911 - val_loss: 0.0618 - val_accuracy: 0.9799\n",
            "Epoch 30/50\n",
            "28/28 [==============================] - 3s 112ms/step - loss: 0.0655 - accuracy: 0.9788 - val_loss: 0.1222 - val_accuracy: 0.9732\n",
            "Epoch 31/50\n",
            "28/28 [==============================] - 3s 110ms/step - loss: 0.0931 - accuracy: 0.9777 - val_loss: 0.0845 - val_accuracy: 0.9732\n",
            "Epoch 32/50\n",
            "28/28 [==============================] - 3s 112ms/step - loss: 0.0404 - accuracy: 0.9844 - val_loss: 0.0538 - val_accuracy: 0.9844\n",
            "Epoch 33/50\n",
            "28/28 [==============================] - 3s 113ms/step - loss: 0.0324 - accuracy: 0.9894 - val_loss: 0.1747 - val_accuracy: 0.9598\n",
            "Epoch 34/50\n",
            "28/28 [==============================] - 3s 111ms/step - loss: 0.0688 - accuracy: 0.9760 - val_loss: 0.0351 - val_accuracy: 0.9888\n",
            "Epoch 35/50\n",
            "28/28 [==============================] - 3s 110ms/step - loss: 0.0495 - accuracy: 0.9838 - val_loss: 0.0597 - val_accuracy: 0.9777\n",
            "Epoch 36/50\n",
            "28/28 [==============================] - 3s 112ms/step - loss: 0.0335 - accuracy: 0.9905 - val_loss: 0.0722 - val_accuracy: 0.9777\n",
            "Epoch 37/50\n",
            "28/28 [==============================] - 3s 112ms/step - loss: 0.0401 - accuracy: 0.9888 - val_loss: 0.0662 - val_accuracy: 0.9821\n",
            "Epoch 38/50\n",
            "28/28 [==============================] - 3s 110ms/step - loss: 0.0187 - accuracy: 0.9933 - val_loss: 0.0508 - val_accuracy: 0.9777\n",
            "Epoch 39/50\n",
            "28/28 [==============================] - 3s 112ms/step - loss: 0.0180 - accuracy: 0.9927 - val_loss: 0.0372 - val_accuracy: 0.9844\n",
            "Epoch 40/50\n",
            "28/28 [==============================] - 3s 114ms/step - loss: 0.0168 - accuracy: 0.9944 - val_loss: 0.0421 - val_accuracy: 0.9911\n",
            "Epoch 41/50\n",
            "28/28 [==============================] - 3s 122ms/step - loss: 0.0343 - accuracy: 0.9900 - val_loss: 0.0496 - val_accuracy: 0.9821\n",
            "Epoch 42/50\n",
            "28/28 [==============================] - 4s 136ms/step - loss: 0.0642 - accuracy: 0.9838 - val_loss: 0.0835 - val_accuracy: 0.9754\n",
            "Epoch 43/50\n",
            "28/28 [==============================] - 5s 167ms/step - loss: 0.0280 - accuracy: 0.9916 - val_loss: 0.0430 - val_accuracy: 0.9866\n",
            "Epoch 44/50\n",
            "28/28 [==============================] - 4s 142ms/step - loss: 0.0210 - accuracy: 0.9944 - val_loss: 0.0510 - val_accuracy: 0.9866\n",
            "Epoch 45/50\n",
            "28/28 [==============================] - 3s 117ms/step - loss: 0.0303 - accuracy: 0.9927 - val_loss: 0.0588 - val_accuracy: 0.9866\n",
            "Epoch 46/50\n",
            "28/28 [==============================] - 3s 112ms/step - loss: 0.0195 - accuracy: 0.9927 - val_loss: 0.0408 - val_accuracy: 0.9888\n",
            "Epoch 47/50\n",
            "28/28 [==============================] - 3s 113ms/step - loss: 0.0169 - accuracy: 0.9955 - val_loss: 0.0467 - val_accuracy: 0.9911\n",
            "Epoch 48/50\n",
            "28/28 [==============================] - 3s 112ms/step - loss: 0.0066 - accuracy: 0.9978 - val_loss: 0.0340 - val_accuracy: 0.9888\n",
            "Epoch 49/50\n",
            "28/28 [==============================] - 3s 111ms/step - loss: 0.0022 - accuracy: 1.0000 - val_loss: 0.0462 - val_accuracy: 0.9888\n",
            "Epoch 50/50\n",
            "28/28 [==============================] - 3s 111ms/step - loss: 0.0038 - accuracy: 0.9989 - val_loss: 0.0396 - val_accuracy: 0.9888\n"
          ]
        }
      ],
      "source": [
        "history = model.fit(x_train, y_train, validation_split= 0.2, epochs = 50, batch_size=64)"
      ]
    },
    {
      "cell_type": "code",
      "execution_count": 22,
      "metadata": {},
      "outputs": [
        {
          "name": "stdout",
          "output_type": "stream",
          "text": [
            "18/18 [==============================] - 1s 33ms/step\n"
          ]
        }
      ],
      "source": [
        "y_pred = model.predict(x_test)"
      ]
    },
    {
      "cell_type": "code",
      "execution_count": 23,
      "metadata": {},
      "outputs": [],
      "source": [
        "y_pred_labels = np.argmax(y_pred, axis=1)\n",
        "y_test_labels = np.argmax(y_test, axis=1)"
      ]
    },
    {
      "cell_type": "code",
      "execution_count": 24,
      "metadata": {},
      "outputs": [],
      "source": [
        "accuracy = accuracy_score(y_test_labels, y_pred_labels)"
      ]
    },
    {
      "cell_type": "code",
      "execution_count": 25,
      "metadata": {},
      "outputs": [
        {
          "name": "stdout",
          "output_type": "stream",
          "text": [
            "98.03571428571428 % accuracy\n"
          ]
        }
      ],
      "source": [
        "print(accuracy*100,\"% accuracy\")"
      ]
    },
    {
      "cell_type": "markdown",
      "metadata": {},
      "source": [
        "### Ploting Loss "
      ]
    },
    {
      "cell_type": "code",
      "execution_count": 26,
      "metadata": {},
      "outputs": [
        {
          "data": {
            "text/plain": [
              "[<matplotlib.lines.Line2D at 0x18c4a6dad50>]"
            ]
          },
          "execution_count": 26,
          "metadata": {},
          "output_type": "execute_result"
        },
        {
          "data": {
            "image/png": "[encoded data removed]",
            "text/plain": [
              "<Figure size 640x480 with 1 Axes>"
            ]
          },
          "metadata": {},
          "output_type": "display_data"
        }
      ],
      "source": [
        "plt.plot(history.history['loss'])\n",
        "plt.plot(history.history['val_loss'])"
      ]
    },
    {
      "cell_type": "markdown",
      "metadata": {},
      "source": [
        "### ploting Accuracy"
      ]
    },
    {
      "cell_type": "code",
      "execution_count": 27,
      "metadata": {},
      "outputs": [
        {
          "data": {
            "text/plain": [
              "[<matplotlib.lines.Line2D at 0x18c52d06a90>]"
            ]
          },
          "execution_count": 27,
          "metadata": {},
          "output_type": "execute_result"
        },
        {
          "data": {
            "image/png": "[encoded data removed]",
            "text/plain": [
              "<Figure size 640x480 with 1 Axes>"
            ]
          },
          "metadata": {},
          "output_type": "display_data"
        }
      ],
      "source": [
        "plt.plot(history.history['accuracy'])\n",
        "plt.plot(history.history['val_accuracy'])"
      ]
    },
    {
      "cell_type": "markdown",
      "metadata": {},
      "source": [
        "### Predicting Model"
      ]
    },
    {
      "cell_type": "code",
      "execution_count": 28,
      "metadata": {},
      "outputs": [],
      "source": [
        "new_paths = ['TESS Toronto emotional speech set data/YAF_fear/YAF_home_fear.wav',\n",
        " 'TESS Toronto emotional speech set data/OAF_Fear/OAF_voice_fear.wav',\n",
        " 'TESS Toronto emotional speech set data/YAF_angry/YAF_shack_angry.wav',\n",
        " 'TESS Toronto emotional speech set data/YAF_disgust/YAF_sail_disgust.wav',\n",
        " 'TESS Toronto emotional speech set data/YAF_happy/YAF_jail_happy.wav',\n",
        " 'TESS Toronto emotional speech set data/YAF_sad/YAF_red_sad.wav']\n",
        "\n",
        "pred_df = pd.DataFrame({'speech':new_paths})"
      ]
    },
    {
      "cell_type": "code",
      "execution_count": 29,
      "metadata": {},
      "outputs": [],
      "source": [
        "pred_X_mfcc = pred_df['speech'].apply(lambda x: extract_mfcc(x))\n",
        "pred_X = [x for x in pred_X_mfcc]\n",
        "pred_X = np.array(pred_X)\n",
        "pred_X = np.expand_dims(pred_X, -1)"
      ]
    },
    {
      "cell_type": "code",
      "execution_count": 30,
      "metadata": {},
      "outputs": [
        {
          "name": "stdout",
          "output_type": "stream",
          "text": [
            "1/1 [==============================] - 0s 33ms/step\n"
          ]
        },
        {
          "data": {
            "text/plain": [
              "array([1.9445733e-07, 1.8959684e-08, 9.9999940e-01, 1.8160913e-08,\n",
              "       2.9502777e-07, 5.8010368e-08, 1.8436493e-08], dtype=float32)"
            ]
          },
          "execution_count": 30,
          "metadata": {},
          "output_type": "execute_result"
        }
      ],
      "source": [
        "model.predict(pred_X)[0]"
      ]
    },
    {
      "cell_type": "code",
      "execution_count": 31,
      "metadata": {},
      "outputs": [
        {
          "name": "stdout",
          "output_type": "stream",
          "text": [
            "1/1 [==============================] - 0s 34ms/step\n",
            "fear\n",
            "fear\n",
            "angry\n",
            "disgust\n",
            "happy\n",
            "sad\n"
          ]
        }
      ],
      "source": [
        "for i in model.predict(pred_X):\n",
        "    print(labels[i.argmax()])"
      ]
    },
    {
      "cell_type": "markdown",
      "metadata": {
        "id": "1Oxe35Y6j_-R"
      },
      "source": [
        "## Creating Model"
      ]
    },
    {
      "cell_type": "code",
      "execution_count": 32,
      "metadata": {
        "id": "Tr2dWRHzj_-R"
      },
      "outputs": [],
      "source": [
        "model.save('audio.h5')"
      ]
    }
  ],
  "metadata": {
    "colab": {
      "provenance": []
    },
    "kernelspec": {
      "display_name": "base",
      "language": "python",
      "name": "python3"
    },
    "language_info": {
      "codemirror_mode": {
        "name": "ipython",
        "version": 3
      },
      "file_extension": ".py",
      "mimetype": "text/x-python",
      "name": "python",
      "nbconvert_exporter": "python",
      "pygments_lexer": "ipython3",
      "version": "3.11.5"
    },
    "orig_nbformat": 4
  },
  "nbformat": 4,
  "nbformat_minor": 0
}
