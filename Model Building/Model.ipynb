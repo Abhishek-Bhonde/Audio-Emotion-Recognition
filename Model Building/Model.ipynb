{
  "cells": [
    {
      "cell_type": "markdown",
      "metadata": {
        "id": "CDRTCR3Uj_91"
      },
      "source": [
        "# Model Building"
      ]
    },
    {
      "cell_type": "markdown",
      "metadata": {
        "id": "mpStk9g9j_95"
      },
      "source": [
        "## Attaching Resources"
      ]
    },
    {
      "cell_type": "markdown",
      "metadata": {
        "id": "DxLRc_W4j_96"
      },
      "source": [
        "### Importing Necessary Libraries"
      ]
    },
    {
      "cell_type": "code",
      "execution_count": 1,
      "metadata": {
        "colab": {
          "base_uri": "https://localhost:8080/",
          "height": 34
        },
        "id": "_02OO1sjj_96",
        "outputId": "3735efd1-8824-40cd-bdda-457b48c7318c"
      },
      "outputs": [],
      "source": [
        "import pandas as pd\n",
        "import numpy as np\n",
        "import os\n",
        "import pickle\n",
        "import sys\n",
        "import librosa\n",
        "import librosa.display\n",
        "import seaborn as sns\n",
        "import matplotlib.pyplot as plt\n",
        "from sklearn.preprocessing import StandardScaler, OneHotEncoder\n",
        "from sklearn.metrics import confusion_matrix, classification_report\n",
        "from sklearn.model_selection import train_test_split\n",
        "from sklearn.metrics import r2_score, mean_absolute_error, mean_squared_error\n",
        "from IPython.display import Audio\n",
        "from sklearn.metrics import accuracy_score\n",
        "import keras\n",
        "from keras.callbacks import ReduceLROnPlateau\n",
        "from keras.models import Sequential\n",
        "from keras.layers import Dense, Conv1D, MaxPooling1D, Flatten, Dropout, BatchNormalization, LSTM\n",
        "from keras.callbacks import ModelCheckpoint\n",
        "\n",
        "import warnings\n",
        "if not sys.warnoptions:\n",
        "    warnings.simplefilter(\"ignore\")\n",
        "warnings.filterwarnings(\"ignore\", category=DeprecationWarning) \n",
        "%matplotlib inline"
      ]
    },
    {
      "cell_type": "markdown",
      "metadata": {
        "id": "ePCfomkFj_98"
      },
      "source": [
        "### Adding Dataset"
      ]
    },
    {
      "cell_type": "code",
      "execution_count": 2,
      "metadata": {
        "colab": {
          "base_uri": "https://localhost:8080/",
          "height": 424
        },
        "id": "MvDKZm-Nj_98",
        "outputId": "bf24a261-f44f-4976-9906-29bfcd642b0e"
      },
      "outputs": [
        {
          "name": "stdout",
          "output_type": "stream",
          "text": [
            "Dataset is Loaded\n"
          ]
        }
      ],
      "source": [
        "paths = []\n",
        "labels = []\n",
        "for dirname, _, filenames in os.walk('TESS Toronto emotional speech set data'):\n",
        "    for filename in filenames:\n",
        "        paths.append(os.path.join(dirname, filename))\n",
        "        label = filename.split('_')[-1]\n",
        "        label = label.split('.')[0]\n",
        "        labels.append(label.lower())\n",
        "    if len(paths) == 2800:\n",
        "        break\n",
        "print('Dataset is Loaded')"
      ]
    },
    {
      "cell_type": "code",
      "execution_count": 3,
      "metadata": {},
      "outputs": [
        {
          "data": {
            "text/plain": [
              "2800"
            ]
          },
          "execution_count": 3,
          "metadata": {},
          "output_type": "execute_result"
        }
      ],
      "source": [
        "len(paths)"
      ]
    },
    {
      "cell_type": "code",
      "execution_count": 4,
      "metadata": {},
      "outputs": [
        {
          "data": {
            "text/plain": [
              "['TESS Toronto emotional speech set data\\\\OAF_angry\\\\OAF_back_angry.wav',\n",
              " 'TESS Toronto emotional speech set data\\\\OAF_angry\\\\OAF_bar_angry.wav',\n",
              " 'TESS Toronto emotional speech set data\\\\OAF_angry\\\\OAF_base_angry.wav',\n",
              " 'TESS Toronto emotional speech set data\\\\OAF_angry\\\\OAF_bath_angry.wav',\n",
              " 'TESS Toronto emotional speech set data\\\\OAF_angry\\\\OAF_bean_angry.wav']"
            ]
          },
          "execution_count": 4,
          "metadata": {},
          "output_type": "execute_result"
        }
      ],
      "source": [
        "paths[:5]"
      ]
    },
    {
      "cell_type": "code",
      "execution_count": 5,
      "metadata": {},
      "outputs": [
        {
          "data": {
            "text/plain": [
              "['angry', 'angry', 'angry', 'angry', 'angry']"
            ]
          },
          "execution_count": 5,
          "metadata": {},
          "output_type": "execute_result"
        }
      ],
      "source": [
        "labels[:5]"
      ]
    },
    {
      "cell_type": "code",
      "execution_count": 6,
      "metadata": {},
      "outputs": [
        {
          "data": {
            "text/html": [
              "<div>\n",
              "<style scoped>\n",
              "    .dataframe tbody tr th:only-of-type {\n",
              "        vertical-align: middle;\n",
              "    }\n",
              "\n",
              "    .dataframe tbody tr th {\n",
              "        vertical-align: top;\n",
              "    }\n",
              "\n",
              "    .dataframe thead th {\n",
              "        text-align: right;\n",
              "    }\n",
              "</style>\n",
              "<table border=\"1\" class=\"dataframe\">\n",
              "  <thead>\n",
              "    <tr style=\"text-align: right;\">\n",
              "      <th></th>\n",
              "      <th>speech</th>\n",
              "      <th>label</th>\n",
              "    </tr>\n",
              "  </thead>\n",
              "  <tbody>\n",
              "    <tr>\n",
              "      <th>0</th>\n",
              "      <td>TESS Toronto emotional speech set data\\OAF_ang...</td>\n",
              "      <td>angry</td>\n",
              "    </tr>\n",
              "    <tr>\n",
              "      <th>1</th>\n",
              "      <td>TESS Toronto emotional speech set data\\OAF_ang...</td>\n",
              "      <td>angry</td>\n",
              "    </tr>\n",
              "    <tr>\n",
              "      <th>2</th>\n",
              "      <td>TESS Toronto emotional speech set data\\OAF_ang...</td>\n",
              "      <td>angry</td>\n",
              "    </tr>\n",
              "    <tr>\n",
              "      <th>3</th>\n",
              "      <td>TESS Toronto emotional speech set data\\OAF_ang...</td>\n",
              "      <td>angry</td>\n",
              "    </tr>\n",
              "    <tr>\n",
              "      <th>4</th>\n",
              "      <td>TESS Toronto emotional speech set data\\OAF_ang...</td>\n",
              "      <td>angry</td>\n",
              "    </tr>\n",
              "  </tbody>\n",
              "</table>\n",
              "</div>"
            ],
            "text/plain": [
              "                                              speech  label\n",
              "0  TESS Toronto emotional speech set data\\OAF_ang...  angry\n",
              "1  TESS Toronto emotional speech set data\\OAF_ang...  angry\n",
              "2  TESS Toronto emotional speech set data\\OAF_ang...  angry\n",
              "3  TESS Toronto emotional speech set data\\OAF_ang...  angry\n",
              "4  TESS Toronto emotional speech set data\\OAF_ang...  angry"
            ]
          },
          "execution_count": 6,
          "metadata": {},
          "output_type": "execute_result"
        }
      ],
      "source": [
        "df = pd.DataFrame()\n",
        "df['speech'] = paths\n",
        "df['label'] = labels\n",
        "df.head()"
      ]
    },
    {
      "cell_type": "code",
      "execution_count": 7,
      "metadata": {},
      "outputs": [],
      "source": [
        "df['label'] = df['label'].replace('ps', 'pleasant surprise')"
      ]
    },
    {
      "cell_type": "code",
      "execution_count": 8,
      "metadata": {},
      "outputs": [
        {
          "data": {
            "text/plain": [
              "label\n",
              "angry                400\n",
              "disgust              400\n",
              "fear                 400\n",
              "happy                400\n",
              "neutral              400\n",
              "pleasant surprise    400\n",
              "sad                  400\n",
              "Name: count, dtype: int64"
            ]
          },
          "execution_count": 8,
          "metadata": {},
          "output_type": "execute_result"
        }
      ],
      "source": [
        "df['label'].value_counts()"
      ]
    },
    {
      "cell_type": "code",
      "execution_count": 23,
      "metadata": {},
      "outputs": [],
      "source": [
        "labels = np.array(df['label'].value_counts().index)"
      ]
    },
    {
      "cell_type": "markdown",
      "metadata": {},
      "source": [
        "### Audio feature extraction method"
      ]
    },
    {
      "cell_type": "code",
      "execution_count": 24,
      "metadata": {},
      "outputs": [],
      "source": [
        "def extract_mfcc(filename):\n",
        "     y, sr = librosa.load(filename, duration=3, offset=0.5)\n",
        "     mfcc = np.mean(librosa.feature.mfcc(y=y, sr=sr, n_mfcc=40).T, axis=0)\n",
        "     return mfcc"
      ]
    },
    {
      "cell_type": "code",
      "execution_count": 25,
      "metadata": {},
      "outputs": [
        {
          "data": {
            "text/plain": [
              "array([-3.96986206e+02,  7.74405365e+01, -1.95927906e+01, -2.16666889e+01,\n",
              "       -2.11275601e+00,  1.00753632e+01, -2.03667068e+01, -6.09244919e+00,\n",
              "       -7.21228313e+00, -5.57366073e-01, -1.83255327e+00,  2.02101365e-01,\n",
              "        7.27551103e-01,  1.31773746e+00,  2.88633752e+00,  2.85579085e+00,\n",
              "       -4.71292162e+00, -4.43651056e+00, -1.62115920e+00, -1.02398405e+01,\n",
              "       -7.55126286e+00, -1.79688025e+00, -7.03765249e+00,  9.43658352e+00,\n",
              "        8.35585499e+00,  2.17123604e+01,  1.92169914e+01,  2.03489304e+01,\n",
              "        1.34133663e+01,  8.33917141e+00,  3.94722193e-01,  5.11131477e+00,\n",
              "        9.56873894e+00,  5.45486832e+00,  2.50996351e+00, -1.82390726e+00,\n",
              "        4.86896181e+00,  9.31392384e+00,  2.08914995e+00, -1.90649164e+00],\n",
              "      dtype=float32)"
            ]
          },
          "execution_count": 25,
          "metadata": {},
          "output_type": "execute_result"
        }
      ],
      "source": [
        "extract_mfcc(df['speech'][0])"
      ]
    },
    {
      "cell_type": "code",
      "execution_count": 26,
      "metadata": {},
      "outputs": [],
      "source": [
        "X_mfcc = df['speech'].apply(lambda x: extract_mfcc(x))"
      ]
    },
    {
      "cell_type": "code",
      "execution_count": 27,
      "metadata": {},
      "outputs": [
        {
          "data": {
            "text/plain": [
              "(2800, 40)"
            ]
          },
          "execution_count": 27,
          "metadata": {},
          "output_type": "execute_result"
        }
      ],
      "source": [
        "X = [x for x in X_mfcc]\n",
        "X = np.array(X)\n",
        "X.shape"
      ]
    },
    {
      "cell_type": "code",
      "execution_count": 28,
      "metadata": {},
      "outputs": [
        {
          "data": {
            "text/plain": [
              "(2800, 40, 1)"
            ]
          },
          "execution_count": 28,
          "metadata": {},
          "output_type": "execute_result"
        }
      ],
      "source": [
        "X = np.expand_dims(X, -1)\n",
        "X.shape"
      ]
    },
    {
      "cell_type": "code",
      "execution_count": 29,
      "metadata": {},
      "outputs": [
        {
          "data": {
            "text/plain": [
              "(2800, 7)"
            ]
          },
          "execution_count": 29,
          "metadata": {},
          "output_type": "execute_result"
        }
      ],
      "source": [
        "enc = OneHotEncoder()\n",
        "y = enc.fit_transform(df[['label']])\n",
        "y = y.toarray()\n",
        "y.shape"
      ]
    },
    {
      "cell_type": "code",
      "execution_count": 30,
      "metadata": {},
      "outputs": [
        {
          "name": "stdout",
          "output_type": "stream",
          "text": [
            "{0: 'angry', 1: 'disgust', 2: 'fear', 3: 'happy', 4: 'neutral', 5: 'pleasant surprise', 6: 'sad'}\n"
          ]
        }
      ],
      "source": [
        "label_index_mapping = {i: label for i, label in enumerate(enc.categories_[0])}\n",
        "print(label_index_mapping)"
      ]
    },
    {
      "cell_type": "markdown",
      "metadata": {
        "id": "SOWgdbu_j_9_"
      },
      "source": [
        "## Splitting The Data Into Traning and Testing Dataset"
      ]
    },
    {
      "cell_type": "code",
      "execution_count": 31,
      "metadata": {
        "id": "vtdmbV0lj_9_"
      },
      "outputs": [],
      "source": [
        "x_train, x_test, y_train, y_test = train_test_split(X,y, test_size=0.2, random_state=10)"
      ]
    },
    {
      "cell_type": "code",
      "execution_count": 32,
      "metadata": {},
      "outputs": [
        {
          "name": "stdout",
          "output_type": "stream",
          "text": [
            "(2240, 40, 1)\n",
            "(560, 40, 1)\n"
          ]
        }
      ],
      "source": [
        "print(x_train.shape)\n",
        "print(x_test.shape)"
      ]
    },
    {
      "cell_type": "code",
      "execution_count": 33,
      "metadata": {},
      "outputs": [
        {
          "name": "stdout",
          "output_type": "stream",
          "text": [
            "(2240, 7)\n",
            "(560, 7)\n"
          ]
        }
      ],
      "source": [
        "print(y_train.shape)\n",
        "print(y_test.shape)"
      ]
    },
    {
      "cell_type": "markdown",
      "metadata": {
        "id": "r0M9WNdAj_-B"
      },
      "source": [
        "### Creating the LSTM Model"
      ]
    },
    {
      "cell_type": "code",
      "execution_count": 34,
      "metadata": {
        "id": "7_159DrBj_-B"
      },
      "outputs": [
        {
          "name": "stdout",
          "output_type": "stream",
          "text": [
            "Model: \"sequential_1\"\n",
            "_________________________________________________________________\n",
            " Layer (type)                Output Shape              Param #   \n",
            "=================================================================\n",
            " lstm_1 (LSTM)               (None, 256)               264192    \n",
            "                                                                 \n",
            " dropout_3 (Dropout)         (None, 256)               0         \n",
            "                                                                 \n",
            " dense_3 (Dense)             (None, 128)               32896     \n",
            "                                                                 \n",
            " dropout_4 (Dropout)         (None, 128)               0         \n",
            "                                                                 \n",
            " dense_4 (Dense)             (None, 64)                8256      \n",
            "                                                                 \n",
            " dropout_5 (Dropout)         (None, 64)                0         \n",
            "                                                                 \n",
            " dense_5 (Dense)             (None, 7)                 455       \n",
            "                                                                 \n",
            "=================================================================\n",
            "Total params: 305799 (1.17 MB)\n",
            "Trainable params: 305799 (1.17 MB)\n",
            "Non-trainable params: 0 (0.00 Byte)\n",
            "_________________________________________________________________\n"
          ]
        }
      ],
      "source": [
        "model = Sequential([\n",
        "    LSTM(256, return_sequences=False, input_shape=(40,1)),\n",
        "    Dropout(0.2),\n",
        "    Dense(128, activation='relu'),\n",
        "    Dropout(0.2),\n",
        "    Dense(64, activation='relu'),\n",
        "    Dropout(0.2),\n",
        "    Dense(7, activation='softmax')\n",
        "])\n",
        "\n",
        "model.compile(loss='categorical_crossentropy', optimizer='adam', metrics=['accuracy'])\n",
        "model.summary()"
      ]
    },
    {
      "cell_type": "code",
      "execution_count": 36,
      "metadata": {
        "colab": {
          "base_uri": "https://localhost:8080/"
        },
        "id": "QLjB5Gxej_-B",
        "outputId": "af77bb1c-58ee-494d-e0c6-0b6a0f0726cc"
      },
      "outputs": [
        {
          "name": "stdout",
          "output_type": "stream",
          "text": [
            "Epoch 1/50\n",
            "28/28 [==============================] - 4s 144ms/step - loss: 0.4979 - accuracy: 0.8410 - val_loss: 0.2302 - val_accuracy: 0.9375\n",
            "Epoch 2/50\n",
            "28/28 [==============================] - 4s 134ms/step - loss: 0.2874 - accuracy: 0.9118 - val_loss: 0.1554 - val_accuracy: 0.9509\n",
            "Epoch 3/50\n",
            "28/28 [==============================] - 4s 135ms/step - loss: 0.2295 - accuracy: 0.9269 - val_loss: 0.1269 - val_accuracy: 0.9554\n",
            "Epoch 4/50\n",
            "28/28 [==============================] - 4s 137ms/step - loss: 0.1824 - accuracy: 0.9442 - val_loss: 0.1120 - val_accuracy: 0.9509\n",
            "Epoch 5/50\n",
            "28/28 [==============================] - 5s 167ms/step - loss: 0.1612 - accuracy: 0.9515 - val_loss: 0.0774 - val_accuracy: 0.9754\n",
            "Epoch 6/50\n",
            "28/28 [==============================] - 4s 159ms/step - loss: 0.1436 - accuracy: 0.9515 - val_loss: 0.0541 - val_accuracy: 0.9844\n",
            "Epoch 7/50\n",
            "28/28 [==============================] - 4s 152ms/step - loss: 0.1167 - accuracy: 0.9609 - val_loss: 0.0975 - val_accuracy: 0.9598\n",
            "Epoch 8/50\n",
            "28/28 [==============================] - 4s 134ms/step - loss: 0.0895 - accuracy: 0.9699 - val_loss: 0.0813 - val_accuracy: 0.9754\n",
            "Epoch 9/50\n",
            "28/28 [==============================] - 4s 128ms/step - loss: 0.0955 - accuracy: 0.9676 - val_loss: 0.0770 - val_accuracy: 0.9754\n",
            "Epoch 10/50\n",
            "28/28 [==============================] - 4s 135ms/step - loss: 0.0970 - accuracy: 0.9676 - val_loss: 0.0706 - val_accuracy: 0.9732\n",
            "Epoch 11/50\n",
            "28/28 [==============================] - 4s 132ms/step - loss: 0.0734 - accuracy: 0.9766 - val_loss: 0.0544 - val_accuracy: 0.9844\n",
            "Epoch 12/50\n",
            "28/28 [==============================] - 5s 184ms/step - loss: 0.0730 - accuracy: 0.9771 - val_loss: 0.0603 - val_accuracy: 0.9777\n",
            "Epoch 13/50\n",
            "28/28 [==============================] - 4s 127ms/step - loss: 0.0568 - accuracy: 0.9810 - val_loss: 0.0462 - val_accuracy: 0.9866\n",
            "Epoch 14/50\n",
            "28/28 [==============================] - 4s 136ms/step - loss: 0.0483 - accuracy: 0.9849 - val_loss: 0.0444 - val_accuracy: 0.9844\n",
            "Epoch 15/50\n",
            "28/28 [==============================] - 4s 156ms/step - loss: 0.0541 - accuracy: 0.9833 - val_loss: 0.0813 - val_accuracy: 0.9688\n",
            "Epoch 16/50\n",
            "28/28 [==============================] - 5s 182ms/step - loss: 0.0589 - accuracy: 0.9794 - val_loss: 0.0459 - val_accuracy: 0.9799\n",
            "Epoch 17/50\n",
            "28/28 [==============================] - 7s 263ms/step - loss: 0.1363 - accuracy: 0.9542 - val_loss: 0.1044 - val_accuracy: 0.9688\n",
            "Epoch 18/50\n",
            "28/28 [==============================] - 6s 206ms/step - loss: 0.0465 - accuracy: 0.9849 - val_loss: 0.0536 - val_accuracy: 0.9844\n",
            "Epoch 19/50\n",
            "28/28 [==============================] - 6s 211ms/step - loss: 0.0492 - accuracy: 0.9860 - val_loss: 0.0754 - val_accuracy: 0.9754\n",
            "Epoch 20/50\n",
            "28/28 [==============================] - 7s 235ms/step - loss: 0.0554 - accuracy: 0.9833 - val_loss: 0.0896 - val_accuracy: 0.9710\n",
            "Epoch 21/50\n",
            "28/28 [==============================] - 4s 148ms/step - loss: 0.0359 - accuracy: 0.9900 - val_loss: 0.0498 - val_accuracy: 0.9821\n",
            "Epoch 22/50\n",
            "28/28 [==============================] - 5s 181ms/step - loss: 0.0332 - accuracy: 0.9883 - val_loss: 0.0475 - val_accuracy: 0.9821\n",
            "Epoch 23/50\n",
            "28/28 [==============================] - 6s 221ms/step - loss: 0.0352 - accuracy: 0.9888 - val_loss: 0.0565 - val_accuracy: 0.9821\n",
            "Epoch 24/50\n",
            "28/28 [==============================] - 6s 211ms/step - loss: 0.0308 - accuracy: 0.9905 - val_loss: 0.0596 - val_accuracy: 0.9777\n",
            "Epoch 25/50\n",
            "28/28 [==============================] - 4s 158ms/step - loss: 0.0788 - accuracy: 0.9821 - val_loss: 0.0638 - val_accuracy: 0.9799\n",
            "Epoch 26/50\n",
            "28/28 [==============================] - 4s 145ms/step - loss: 0.0740 - accuracy: 0.9794 - val_loss: 0.1234 - val_accuracy: 0.9598\n",
            "Epoch 27/50\n",
            "28/28 [==============================] - 4s 157ms/step - loss: 0.0609 - accuracy: 0.9799 - val_loss: 0.0765 - val_accuracy: 0.9799\n",
            "Epoch 28/50\n",
            "28/28 [==============================] - 4s 141ms/step - loss: 0.0607 - accuracy: 0.9849 - val_loss: 0.1557 - val_accuracy: 0.9643\n",
            "Epoch 29/50\n",
            "28/28 [==============================] - 3s 121ms/step - loss: 0.0563 - accuracy: 0.9838 - val_loss: 0.0516 - val_accuracy: 0.9799\n",
            "Epoch 30/50\n",
            "28/28 [==============================] - 3s 113ms/step - loss: 0.0419 - accuracy: 0.9849 - val_loss: 0.0646 - val_accuracy: 0.9866\n",
            "Epoch 31/50\n",
            "28/28 [==============================] - 3s 114ms/step - loss: 0.0188 - accuracy: 0.9955 - val_loss: 0.0502 - val_accuracy: 0.9866\n",
            "Epoch 32/50\n",
            "28/28 [==============================] - 3s 116ms/step - loss: 0.0132 - accuracy: 0.9972 - val_loss: 0.0450 - val_accuracy: 0.9888\n",
            "Epoch 33/50\n",
            "28/28 [==============================] - 3s 113ms/step - loss: 0.0113 - accuracy: 0.9961 - val_loss: 0.0584 - val_accuracy: 0.9844\n",
            "Epoch 34/50\n",
            "28/28 [==============================] - 3s 113ms/step - loss: 0.0080 - accuracy: 0.9978 - val_loss: 0.0356 - val_accuracy: 0.9866\n",
            "Epoch 35/50\n",
            "28/28 [==============================] - 3s 117ms/step - loss: 0.0130 - accuracy: 0.9967 - val_loss: 0.1051 - val_accuracy: 0.9665\n",
            "Epoch 36/50\n",
            "28/28 [==============================] - 3s 114ms/step - loss: 0.0262 - accuracy: 0.9939 - val_loss: 0.0758 - val_accuracy: 0.9821\n",
            "Epoch 37/50\n",
            "28/28 [==============================] - 3s 113ms/step - loss: 0.0230 - accuracy: 0.9900 - val_loss: 0.0315 - val_accuracy: 0.9888\n",
            "Epoch 38/50\n",
            "28/28 [==============================] - 3s 119ms/step - loss: 0.0467 - accuracy: 0.9877 - val_loss: 0.1066 - val_accuracy: 0.9732\n",
            "Epoch 39/50\n",
            "28/28 [==============================] - 3s 119ms/step - loss: 0.0594 - accuracy: 0.9799 - val_loss: 0.1331 - val_accuracy: 0.9665\n",
            "Epoch 40/50\n",
            "28/28 [==============================] - 3s 116ms/step - loss: 0.0437 - accuracy: 0.9838 - val_loss: 0.0772 - val_accuracy: 0.9665\n",
            "Epoch 41/50\n",
            "28/28 [==============================] - 3s 113ms/step - loss: 0.0417 - accuracy: 0.9877 - val_loss: 0.0652 - val_accuracy: 0.9777\n",
            "Epoch 42/50\n",
            "28/28 [==============================] - 3s 116ms/step - loss: 0.0297 - accuracy: 0.9922 - val_loss: 0.0373 - val_accuracy: 0.9821\n",
            "Epoch 43/50\n",
            "28/28 [==============================] - 3s 117ms/step - loss: 0.0160 - accuracy: 0.9944 - val_loss: 0.0520 - val_accuracy: 0.9821\n",
            "Epoch 44/50\n",
            "28/28 [==============================] - 3s 122ms/step - loss: 0.0110 - accuracy: 0.9983 - val_loss: 0.0394 - val_accuracy: 0.9844\n",
            "Epoch 45/50\n",
            "28/28 [==============================] - 3s 117ms/step - loss: 0.0403 - accuracy: 0.9883 - val_loss: 0.0740 - val_accuracy: 0.9821\n",
            "Epoch 46/50\n",
            "28/28 [==============================] - 4s 135ms/step - loss: 0.0590 - accuracy: 0.9799 - val_loss: 0.0662 - val_accuracy: 0.9821\n",
            "Epoch 47/50\n",
            "28/28 [==============================] - 4s 131ms/step - loss: 0.0303 - accuracy: 0.9900 - val_loss: 0.0596 - val_accuracy: 0.9866\n",
            "Epoch 48/50\n",
            "28/28 [==============================] - 4s 126ms/step - loss: 0.0274 - accuracy: 0.9905 - val_loss: 0.0550 - val_accuracy: 0.9821\n",
            "Epoch 49/50\n",
            "28/28 [==============================] - 4s 156ms/step - loss: 0.0134 - accuracy: 0.9955 - val_loss: 0.0459 - val_accuracy: 0.9888\n",
            "Epoch 50/50\n",
            "28/28 [==============================] - 4s 147ms/step - loss: 0.0111 - accuracy: 0.9961 - val_loss: 0.0413 - val_accuracy: 0.9866\n"
          ]
        }
      ],
      "source": [
        "history = model.fit(x_train, y_train, validation_split= 0.2, epochs = 50, batch_size=64)"
      ]
    },
    {
      "cell_type": "code",
      "execution_count": 37,
      "metadata": {},
      "outputs": [
        {
          "name": "stdout",
          "output_type": "stream",
          "text": [
            "18/18 [==============================] - 1s 33ms/step\n"
          ]
        }
      ],
      "source": [
        "y_pred = model.predict(x_test)"
      ]
    },
    {
      "cell_type": "code",
      "execution_count": 38,
      "metadata": {},
      "outputs": [],
      "source": [
        "y_pred_labels = np.argmax(y_pred, axis=1)\n",
        "y_test_labels = np.argmax(y_test, axis=1)"
      ]
    },
    {
      "cell_type": "code",
      "execution_count": 39,
      "metadata": {},
      "outputs": [],
      "source": [
        "accuracy = accuracy_score(y_test_labels, y_pred_labels)"
      ]
    },
    {
      "cell_type": "code",
      "execution_count": 40,
      "metadata": {},
      "outputs": [
        {
          "name": "stdout",
          "output_type": "stream",
          "text": [
            "98.03571428571428 % accuracy\n"
          ]
        }
      ],
      "source": [
        "print(accuracy*100,\"% accuracy\")"
      ]
    },
    {
      "cell_type": "markdown",
      "metadata": {},
      "source": [
        "### Ploting Loss "
      ]
    },
    {
      "cell_type": "code",
      "execution_count": 15,
      "metadata": {},
      "outputs": [
        {
          "data": {
            "text/plain": [
              "[<matplotlib.lines.Line2D at 0x25b0a163c10>]"
            ]
          },
          "execution_count": 15,
          "metadata": {},
          "output_type": "execute_result"
        },
        {
          "data": {
            "image/png": "[encoded data removed]",
            "text/plain": [
              "<Figure size 640x480 with 1 Axes>"
            ]
          },
          "metadata": {},
          "output_type": "display_data"
        }
      ],
      "source": [
        "plt.plot(history.history['loss'])\n",
        "plt.plot(history.history['val_loss'])"
      ]
    },
    {
      "cell_type": "markdown",
      "metadata": {},
      "source": [
        "### ploting Accuracy"
      ]
    },
    {
      "cell_type": "code",
      "execution_count": 16,
      "metadata": {},
      "outputs": [
        {
          "data": {
            "text/plain": [
              "[<matplotlib.lines.Line2D at 0x25b088758d0>]"
            ]
          },
          "execution_count": 16,
          "metadata": {},
          "output_type": "execute_result"
        },
        {
          "data": {
            "image/png": "[encoded data removed]",
            "text/plain": [
              "<Figure size 640x480 with 1 Axes>"
            ]
          },
          "metadata": {},
          "output_type": "display_data"
        }
      ],
      "source": [
        "plt.plot(history.history['accuracy'])\n",
        "plt.plot(history.history['val_accuracy'])"
      ]
    },
    {
      "cell_type": "markdown",
      "metadata": {},
      "source": [
        "### Predicting Model"
      ]
    },
    {
      "cell_type": "code",
      "execution_count": 41,
      "metadata": {},
      "outputs": [],
      "source": [
        "new_paths = ['TESS Toronto emotional speech set data/YAF_fear/YAF_home_fear.wav',\n",
        " 'TESS Toronto emotional speech set data/OAF_Fear/OAF_voice_fear.wav',\n",
        " 'TESS Toronto emotional speech set data/YAF_angry/YAF_shack_angry.wav',\n",
        " 'TESS Toronto emotional speech set data/YAF_disgust/YAF_sail_disgust.wav',\n",
        " 'TESS Toronto emotional speech set data/YAF_happy/YAF_jail_happy.wav',\n",
        " 'TESS Toronto emotional speech set data/YAF_sad/YAF_red_sad.wav']\n",
        "\n",
        "pred_df = pd.DataFrame({'speech':new_paths})"
      ]
    },
    {
      "cell_type": "code",
      "execution_count": 42,
      "metadata": {},
      "outputs": [],
      "source": [
        "pred_X_mfcc = pred_df['speech'].apply(lambda x: extract_mfcc(x))\n",
        "pred_X = [x for x in pred_X_mfcc]\n",
        "pred_X = np.array(pred_X)\n",
        "pred_X = np.expand_dims(pred_X, -1)"
      ]
    },
    {
      "cell_type": "code",
      "execution_count": 43,
      "metadata": {},
      "outputs": [
        {
          "name": "stdout",
          "output_type": "stream",
          "text": [
            "1/1 [==============================] - 0s 33ms/step\n"
          ]
        },
        {
          "data": {
            "text/plain": [
              "array([9.0183505e-08, 1.2796494e-07, 9.9999905e-01, 1.8073651e-08,\n",
              "       6.8486241e-07, 1.1097976e-09, 5.3746643e-09], dtype=float32)"
            ]
          },
          "execution_count": 43,
          "metadata": {},
          "output_type": "execute_result"
        }
      ],
      "source": [
        "model.predict(pred_X)[0]"
      ]
    },
    {
      "cell_type": "code",
      "execution_count": 44,
      "metadata": {},
      "outputs": [
        {
          "name": "stdout",
          "output_type": "stream",
          "text": [
            "1/1 [==============================] - 0s 31ms/step\n",
            "fear\n",
            "fear\n",
            "angry\n",
            "disgust\n",
            "happy\n",
            "sad\n"
          ]
        }
      ],
      "source": [
        "for i in model.predict(pred_X):\n",
        "    print(labels[i.argmax()])"
      ]
    },
    {
      "cell_type": "markdown",
      "metadata": {
        "id": "1Oxe35Y6j_-R"
      },
      "source": [
        "## Creating Model"
      ]
    },
    {
      "cell_type": "code",
      "execution_count": 46,
      "metadata": {
        "id": "Tr2dWRHzj_-R"
      },
      "outputs": [],
      "source": [
        "pickle.dump(model, open('model.pkl','wb'))"
      ]
    }
  ],
  "metadata": {
    "colab": {
      "provenance": []
    },
    "kernelspec": {
      "display_name": "base",
      "language": "python",
      "name": "python3"
    },
    "language_info": {
      "codemirror_mode": {
        "name": "ipython",
        "version": 3
      },
      "file_extension": ".py",
      "mimetype": "text/x-python",
      "name": "python",
      "nbconvert_exporter": "python",
      "pygments_lexer": "ipython3",
      "version": "3.11.5"
    },
    "orig_nbformat": 4
  },
  "nbformat": 4,
  "nbformat_minor": 0
}
